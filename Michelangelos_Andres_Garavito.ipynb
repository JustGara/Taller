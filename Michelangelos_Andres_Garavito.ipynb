{
 "cells": [
  {
   "cell_type": "markdown",
   "id": "186039a5",
   "metadata": {},
   "source": [
    "# Michelangelo's\n",
    "\n",
    "Su amigo Chocolove McDonell le comenta que inauguró un nuevo restaurante llamado _Michelangelo's_, el cual se especializa en comida italiana. Como dueño del negocio, Chocolove quiere evaluar la rentabilidad de su negocio, pero no es muy bueno sacando cuentas, razón por la que acude a usted por ayuda. \n",
    "\n",
    "El menú del restaurante es el siguiente:\n",
    "> - Carpaccio... `$ 31.500`\n",
    "> - Polenta... `$ 31.500`\n",
    "> - Panna Cotta... `$ 32.000` \n",
    "> - Macchiato... `$ 12.500` \n",
    "> - Latte... `$ 18.000`\n",
    "> - Cappuccino... `$ 19.500` \n",
    "> - Espresso... `$ 21.500` \n",
    "> - Lasagna... `$ 29.000` \n",
    "> - Risotto... `$ 35.500` \n",
    "> - Gnocchi... `$ 56.500` \n",
    "> - Ravioli... `$ 63.500` \n",
    "\n",
    "Chocolove lleva anotaciones de las ventas realizadas durante la primera semana en un pequeño cuaderno, indicando la fecha y los platos servidos. Le ha compartido la siguientes imágenes:\n",
    "\n",
    "<img src=\"ventas_p1.jpg\" style=\"max-height:400px\">\n",
    "<img src=\"ventas_p2.jpg\" style=\"max-height:400px\">\n",
    "\n",
    "**Tip**: Descarga las imágenes de la carpeta del repositorio para observar el texto con mayor facilidad."
   ]
  },
  {
   "cell_type": "markdown",
   "id": "29ad8ea4",
   "metadata": {},
   "source": [
    "# Menú"
   ]
  },
  {
   "cell_type": "markdown",
   "id": "2797b589",
   "metadata": {},
   "source": [
    "Crea una lista llamada `menu` que contenga los elementos del menú de Michelangelo's."
   ]
  },
  {
   "cell_type": "code",
   "execution_count": 112,
   "id": "3cb128e4",
   "metadata": {},
   "outputs": [],
   "source": [
    "menu = ['Carpaccio', 'Polenta', 'Panna Cotta', 'Macchiato', 'Latte', 'Cappuccino', 'Espresso', 'Lasagna', 'Risotto', 'Gnocchi', 'Ravioli']"
   ]
  },
  {
   "cell_type": "markdown",
   "id": "9c242dcf",
   "metadata": {},
   "source": [
    "Crea una lista llamada `prices` que contenga los precios de los elementos del menú de Michelangelo's. El orden de los precios debe corresponder con el orden de los platos en la lista `menu`."
   ]
  },
  {
   "cell_type": "code",
   "execution_count": 110,
   "id": "2c648e26",
   "metadata": {},
   "outputs": [],
   "source": [
    "price = [31500, 31500, 32000, 12500, 18000, 19500, 21500, 29000, 35500, 56500, 63500]"
   ]
  },
  {
   "cell_type": "markdown",
   "id": "db730bc8",
   "metadata": {},
   "source": [
    "Crea una variable llamada `avg_prc` que almacene el valor del precio promedio de los productos vendidos en Michelangelo's.\n",
    "\n",
    "**Tip**: utiliza la lista `prices` y ciclos para calcular este valor. "
   ]
  },
  {
   "cell_type": "code",
   "execution_count": 11,
   "id": "8d1e899a",
   "metadata": {},
   "outputs": [
    {
     "name": "stdout",
     "output_type": "stream",
     "text": [
      "La suma de los datos es: 351000\n",
      "El número de datos que se encuentran en la lista es de 11\n",
      "El promedio de los productos vendidos en Michelangelo es de 31909.090909090908\n",
      "Promedio reducido en decimales: 31909.09\n"
     ]
    }
   ],
   "source": [
    "# Para calcular el promedio se debe de sumar los precios y dividir entre el número de datos que se encuentran en la lista.\n",
    "\n",
    "# Definir la variable de la suma para que pueda funcionar el ciclo.\n",
    "sum_prc = 0\n",
    "\n",
    "# Realizar el ciclo con la lista de precios.\n",
    "for variable in prices:\n",
    "    # Esta linea almacena las sumas que se está realizando con cada dato de la lista.\n",
    "    sum_prc = sum_prc + variable\n",
    "\n",
    "# Verificación de la suma en la consola.\n",
    "print('La suma de los datos es: ' + str(sum_prc))\n",
    "\n",
    "# Para tener el número de datos se utiliza el comando de 'len', el cual identifica cuantos datos se encuentran en la lista\n",
    "num_prc = len(prices)\n",
    "\n",
    "# Verificación de el número de datos en la lista.\n",
    "print('El número de datos que se encuentran en la lista es de ' + str(num_prc))\n",
    "\n",
    "# CÁLCULO PROMEDIO\n",
    "# Es la suma de los precios dividido sobre el número de datos que se encuentran en la lista.\n",
    "avg_prc = sum_prc / num_prc\n",
    "\n",
    "# Verificación del resultado en la consola.\n",
    "print('El promedio de los productos vendidos en Michelangelo es de '+ str(avg_prc))\n",
    "\n",
    "# Para reducir los decimales.\n",
    "avg_prc_red = round(avg_prc, 2)\n",
    "\n",
    "# Mostrar en consola.\n",
    "print('Promedio reducido en decimales: ' + str(avg_prc_red))"
   ]
  },
  {
   "cell_type": "markdown",
   "id": "08393c0c",
   "metadata": {},
   "source": [
    "## Ventas"
   ]
  },
  {
   "cell_type": "markdown",
   "id": "97c049c0",
   "metadata": {},
   "source": [
    "Crea una lista para cada día de la semana que contenga los productos vendidos por Michelangelo's. Nombra las variables de la siguiente forma:\n",
    "- `monday`: lista con las ventas del lunes, 16 de enero de 2023\n",
    "- `tuesday`: lista con las ventas del martes, 17 de enero de 2023\n",
    "- `wednesday`: lista con las ventas del miércoles, 18 de enero de 2023\n",
    "- `thursday`: lista con las ventas del jueves, 19 de enero de 2023\n",
    "- `friday`: lista con las ventas del viernes, 20 de enero de 2023\n",
    "- `saturday`: lista con las ventas del sábado, 21 de enero de 2023\n",
    "- `sunday`: lista con las ventas del domingo, 22 de enero de 2023"
   ]
  },
  {
   "cell_type": "code",
   "execution_count": 5,
   "id": "f2b38aa6",
   "metadata": {},
   "outputs": [],
   "source": [
    "monday = ['Lasagna', 'Polenta', 'Gnocchi', 'Polenta', 'Ravioli', 'Gnocchi', 'Cappuccino', 'Risotto']\n",
    "tuesday = ['Risotto', 'Ravioli', 'Risotto', 'Lasagna', 'Carpaccio', 'Espresso', 'Panna Cotta', 'Gnocchi', 'Gnocchi']\n",
    "wednesday = ['Cappuccino', 'Lasagna', 'Cappuccino', 'Carpaccio', 'Ravioli', 'Polenta', 'Polenta', 'Carpaccio', 'Espresso', 'Lasagna', 'Risotto', 'Carpaccio']\n",
    "thursday = ['Latte', 'Risotto', 'Risotto', 'Carpaccio', 'Gnocchi', 'Polenta', 'Espresso', 'Latte', 'Ravioli']\n",
    "friday = ['Espresso', 'Gnocchi', 'Gnocchi', 'Cappuccino', 'Gnocchi', 'Panna Cotta']\n",
    "saturday = ['Risotto', 'Carpaccio', 'Macchiato', 'Cappuccino', 'Risotto', 'Polenta', 'Panna Cotta', 'Ravioli', 'Macchiato', 'Panna Cotta', 'Latte', 'Latte', 'Gnocchi']\n",
    "sunday = ['Polenta', 'Polenta', 'Espresso', 'Ravioli', 'Risotto', 'Macchiato']"
   ]
  },
  {
   "cell_type": "markdown",
   "id": "0727bc22",
   "metadata": {},
   "source": [
    "Calcula el valor total de las ventas para cada día de la semana. Almacena el valor de las ventas en las siguientes variables:\n",
    "- `total_monday`: variable con el valor total de las ventas del día lunes\n",
    "- `total_tuesday`: variable con el valor total de las ventas del día lunes\n",
    "- `total_wednesday`: variable con el valor total de las ventas del día lunes\n",
    "- `total_thursday`: variable con el valor total de las ventas del día lunes\n",
    "- `total_friday`: variable con el valor total de las ventas del día lunes\n",
    "- `total_saturday`: variable con el valor total de las ventas del día lunes\n",
    "- `total_sunday`: variable con el valor total de las ventas del día lunes\n",
    "\n",
    "**Tip**: utiliza ciclos y las listas de los días de la semana. También puedes usar el método `.index()` para obtener el índice de un elemento en una lista."
   ]
  },
  {
   "cell_type": "code",
   "execution_count": 113,
   "id": "0d6e0781",
   "metadata": {},
   "outputs": [
    {
     "name": "stdout",
     "output_type": "stream",
     "text": [
      "La suma de precios del día lunes es de: $ 323500\n",
      "La suma de precios del día martes es de: $ 361500\n",
      "La suma de precios del día miercoles es de: $ 375000\n",
      "La suma de precios del día jueves es de: $ 311500\n",
      "La suma de precios del día viernes es de: $ 242500\n",
      "La suma de precios del día sabado es de: $ 398500\n",
      "La suma de precios del día domingo es de: $ 196000\n"
     ]
    }
   ],
   "source": [
    "# Se genera las listas correspondientes al ciclo\n",
    "week = [monday, tuesday, wednesday, thursday, friday, saturday, sunday] # Para el llamado del for\n",
    "days = ['lunes', 'martes', 'miercoles', 'jueves', 'viernes', 'sabado', 'domingo'] # Para colocar los carácteres\n",
    "prices_car = [] # Para almacenar los precios\n",
    "\n",
    "# Definir la variable para almacenar la suma\n",
    "sum_week = 0\n",
    "\n",
    "# El ciclo for desde la lista de la semana\n",
    "for day in week:\n",
    "    # Definimos prices = 0 para cada nueva suma de cada dato en los días\n",
    "    prices = 0\n",
    "    # El ciclo for que realiza la suma de los precios en los días\n",
    "    for data in day:\n",
    "        # Se llama la posición de cada dato de la lista junto con la del menú, que está en orden e irrepetible los datos\n",
    "        position = menu.index(data)\n",
    "        # Con las posiciones se compara con la lista de precios que está en orden junto con la del menú\n",
    "        price_position = price[position]\n",
    "        # Se almacena los datos de cada precio, sumando\n",
    "        prices = prices + price_position\n",
    "        # Se realiza la suma total de la semana\n",
    "        sum_week = sum_week + prices\n",
    "    # Se almacena en una lista vacía definida anteriormente    \n",
    "    prices_car.append(prices)\n",
    "    \n",
    "# Este ciclo organiza los datos para mostrar en consola\n",
    "for i, (a, b) in enumerate(zip(days, prices_car)):\n",
    "    print('La suma de precios del día ' + str(a) + ' es de: $ ' + str(b))"
   ]
  },
  {
   "cell_type": "markdown",
   "id": "3cc13c70",
   "metadata": {},
   "source": [
    "¿Cuál es valor total de las ventas de Michelangelo's durante su primera semana?"
   ]
  },
  {
   "cell_type": "code",
   "execution_count": 7,
   "id": "c8d1500f",
   "metadata": {},
   "outputs": [
    {
     "name": "stdout",
     "output_type": "stream",
     "text": [
      "La suma total de precios en la semana es de: $ 11277000\n"
     ]
    }
   ],
   "source": [
    "# Se muestra la suma total gracias a la variable almacenada en el anterior for\n",
    "print('La suma total de precios en la semana es de: $ ' + str(sum_week))"
   ]
  },
  {
   "cell_type": "markdown",
   "id": "deea6c0b",
   "metadata": {},
   "source": [
    "# Análisis Problema 1 - Andrés Garavito"
   ]
  },
  {
   "cell_type": "code",
   "execution_count": 79,
   "id": "a6ddc438",
   "metadata": {},
   "outputs": [
    {
     "name": "stdout",
     "output_type": "stream",
     "text": [
      "{'Carpaccio': 31500, 'Polenta': 31500, 'Panna Cotta': 32000, 'Macchiato': 12500, 'Latte': 18000, 'Cappuccino': 19500, 'Espresso': 21500, 'Lasagna': 29000, 'Risotto': 35500, 'Gnocchi': 56500, 'Ravioli': 63500}\n",
      "{'Carpaccio': 31500, 'Polenta': 31500, 'Panna Cotta': 32000, 'Macchiato': 12500, 'Latte': 18000, 'Cappuccino': 19500, 'Espresso': 21500, 'Lasagna': 29000, 'Risotto': 35500, 'Gnocchi': 56500, 'Ravioli': 63500}\n"
     ]
    }
   ],
   "source": [
    "menu = {'Carpaccio': 31500, 'Polenta': 31500, 'Panna Cotta': 32000, 'Macchiato': 12500, 'Latte': 18000, 'Cappuccino': 19500, 'Espresso': 21500, 'Lasagna': 29000, 'Risotto': 35500, 'Gnocchi': 56500, 'Ravioli': 63500}\n",
    "dishes = menu.copy()\n",
    "print(menu)\n",
    "print(dishes)"
   ]
  },
  {
   "cell_type": "code",
   "execution_count": 78,
   "id": "36ccf1a5",
   "metadata": {},
   "outputs": [
    {
     "name": "stdout",
     "output_type": "stream",
     "text": [
      "{'2023/01/16': ['Lasagna', 'Polenta', 'Gnocchi', 'Polenta', 'Ravioli', 'Gnocchi', 'Cappuccino', 'Risotto'], '2023/01/17': ['Risotto', 'Ravioli', 'Risotto', 'Lasagna', 'Carpaccio', 'Espresso', 'Panna Cotta', 'Gnocchi', 'Gnocchi'], '2023/01/18': ['Cappuccino', 'Lasagna', 'Cappuccino', 'Carpaccio', 'Ravioli', 'Polenta', 'Polenta', 'Carpaccio', 'Espresso', 'Lasagna', 'Risotto', 'Carpaccio'], '2023/01/19': ['Latte', 'Risotto', 'Risotto', 'Carpaccio', 'Gnocchi', 'Polenta', 'Espresso', 'Latte', 'Ravioli'], '2023/01/20': ['Espresso', 'Gnocchi', 'Gnocchi', 'Cappuccino', 'Gnocchi', 'Panna Cotta'], '2023/01/21': ['Risotto', 'Carpaccio', 'Macchiato', 'Cappuccino', 'Risotto', 'Polenta', 'Panna Cotta', 'Ravioli', 'Macchiato', 'Panna Cotta', 'Latte', 'Latte', 'Gnocchi'], '2023/01/22': ['Polenta', 'Polenta', 'Espresso', 'Ravioli', 'Risotto', 'Macchiato']}\n"
     ]
    }
   ],
   "source": [
    "week = [monday, tuesday, wednesday, thursday, friday, saturday, sunday]\n",
    "sales = {}\n",
    "number_day = 16\n",
    "\n",
    "for day_sales in week:\n",
    "    sales_day = 0\n",
    "    sales['2023/01/' + str(number_day)] = day_sales\n",
    "    number_day = number_day + 1\n",
    "    \n",
    "print(sales)"
   ]
  },
  {
   "cell_type": "code",
   "execution_count": 101,
   "id": "38c3459f",
   "metadata": {},
   "outputs": [
    {
     "name": "stdout",
     "output_type": "stream",
     "text": [
      "{'2023/01/16': \"['Polenta', 'Polenta', 'Espresso', 'Ravioli', 'Risotto', 'Macchiato'] Lasagna\", '2023/01/17': ['Risotto', 'Ravioli', 'Risotto', 'Lasagna', 'Carpaccio', 'Espresso', 'Panna Cotta', 'Gnocchi', 'Gnocchi'], '2023/01/18': ['Cappuccino', 'Lasagna', 'Cappuccino', 'Carpaccio', 'Ravioli', 'Polenta', 'Polenta', 'Carpaccio', 'Espresso', 'Lasagna', 'Risotto', 'Carpaccio'], '2023/01/19': ['Latte', 'Risotto', 'Risotto', 'Carpaccio', 'Gnocchi', 'Polenta', 'Espresso', 'Latte', 'Ravioli'], '2023/01/20': ['Espresso', 'Gnocchi', 'Gnocchi', 'Cappuccino', 'Gnocchi', 'Panna Cotta'], '2023/01/21': ['Risotto', 'Carpaccio', 'Macchiato', 'Cappuccino', 'Risotto', 'Polenta', 'Panna Cotta', 'Ravioli', 'Macchiato', 'Panna Cotta', 'Latte', 'Latte', 'Gnocchi'], '2023/01/22': ['Polenta', 'Polenta', 'Espresso', 'Ravioli', 'Risotto', 'Macchiato']}\n"
     ]
    }
   ],
   "source": [
    "def add_sale(food_sale, date_sale):\n",
    "    if date_sale in sales:\n",
    "        if food_sale in menu:\n",
    "            sales[date_sale] = str(day_sales) + ' ' + str(food_sale)\n",
    "            print(sales)\n",
    "        else:\n",
    "            print('Comida no encontrada en el menú')\n",
    "    else:\n",
    "        print('Fecha no dada por la base de datos')\n",
    "    \n",
    "add_sale('Lasagna', '2023/01/16')"
   ]
  },
  {
   "cell_type": "code",
   "execution_count": 109,
   "id": "13cfee96",
   "metadata": {},
   "outputs": [
    {
     "name": "stdout",
     "output_type": "stream",
     "text": [
      "274000\n"
     ]
    }
   ],
   "source": [
    "def calculate_total_date(date_sale):\n",
    "    new_price = 0\n",
    "    for data in date_sale:\n",
    "        position = date_sale.index(data)\n",
    "        price_position = price[position]\n",
    "        new_price = new_price + price_position\n",
    "    print(new_price)\n",
    "        \n",
    "calculate_total_date('2023/01/16')"
   ]
  },
  {
   "cell_type": "code",
   "execution_count": 114,
   "id": "7d668c92",
   "metadata": {},
   "outputs": [],
   "source": [
    "def calculate_total_sales():\n",
    "    print(sum_week)\n",
    "    \n",
    "def "
   ]
  }
 ],
 "metadata": {
  "kernelspec": {
   "display_name": "Python 3 (ipykernel)",
   "language": "python",
   "name": "python3"
  },
  "language_info": {
   "codemirror_mode": {
    "name": "ipython",
    "version": 3
   },
   "file_extension": ".py",
   "mimetype": "text/x-python",
   "name": "python",
   "nbconvert_exporter": "python",
   "pygments_lexer": "ipython3",
   "version": "3.9.13"
  }
 },
 "nbformat": 4,
 "nbformat_minor": 5
}
