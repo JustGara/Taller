{
 "cells": [
  {
   "cell_type": "markdown",
   "id": "186039a5",
   "metadata": {},
   "source": [
    "# Michelangelo's\n",
    "\n",
    "Su amigo Chocolove McDonell le comenta que inauguró un nuevo restaurante llamado _Michelangelo's_, el cual se especializa en comida italiana. Como dueño del negocio, Chocolove quiere evaluar la rentabilidad de su negocio, pero no es muy bueno sacando cuentas, razón por la que acude a usted por ayuda. \n",
    "\n",
    "El menú del restaurante es el siguiente:\n",
    "> - Carpaccio... `$ 31.500`\n",
    "> - Polenta... `$ 31.500`\n",
    "> - Panna Cotta... `$ 32.000` \n",
    "> - Macchiato... `$ 12.500` \n",
    "> - Latte... `$ 18.000`\n",
    "> - Cappuccino... `$ 19.500` \n",
    "> - Espresso... `$ 21.500` \n",
    "> - Lasagna... `$ 29.000` \n",
    "> - Risotto... `$ 35.500` \n",
    "> - Gnocchi... `$ 56.500` \n",
    "> - Ravioli... `$ 63.500` \n",
    "\n",
    "Chocolove lleva anotaciones de las ventas realizadas durante la primera semana en un pequeño cuaderno, indicando la fecha y los platos servidos. Le ha compartido la siguientes imágenes:\n",
    "\n",
    "<img src=\"ventas_p1.jpg\" style=\"max-height:400px\">\n",
    "<img src=\"ventas_p2.jpg\" style=\"max-height:400px\">\n",
    "\n",
    "**Tip**: Descarga las imágenes de la carpeta del repositorio para observar el texto con mayor facilidad."
   ]
  },
  {
   "cell_type": "markdown",
   "id": "29ad8ea4",
   "metadata": {},
   "source": [
    "# Menú"
   ]
  },
  {
   "cell_type": "markdown",
   "id": "2797b589",
   "metadata": {},
   "source": [
    "Crea una lista llamada `menu` que contenga los elementos del menú de Michelangelo's."
   ]
  },
  {
   "cell_type": "code",
   "execution_count": null,
   "id": "3cb128e4",
   "metadata": {},
   "outputs": [],
   "source": []
  },
  {
   "cell_type": "markdown",
   "id": "9c242dcf",
   "metadata": {},
   "source": [
    "Crea una lista llamada `prices` que contenga los precios de los elementos del menú de Michelangelo's. El orden de los precios debe corresponder con el orden de los platos en la lista `menu`."
   ]
  },
  {
   "cell_type": "code",
   "execution_count": null,
   "id": "2c648e26",
   "metadata": {},
   "outputs": [],
   "source": []
  },
  {
   "cell_type": "markdown",
   "id": "db730bc8",
   "metadata": {},
   "source": [
    "Crea una variable llamada `avg_prc` que almacene el valor del precio promedio de los productos vendidos en Michelangelo's.\n",
    "\n",
    "**Tip**: utiliza la lista `prices` y ciclos para calcular este valor. "
   ]
  },
  {
   "cell_type": "code",
   "execution_count": null,
   "id": "8d1e899a",
   "metadata": {},
   "outputs": [],
   "source": []
  },
  {
   "cell_type": "markdown",
   "id": "08393c0c",
   "metadata": {},
   "source": [
    "## Ventas"
   ]
  },
  {
   "cell_type": "markdown",
   "id": "97c049c0",
   "metadata": {},
   "source": [
    "Crea una lista para cada día de la semana que contenga los productos vendidos por Michelangelo's. Nombra las variables de la siguiente forma:\n",
    "- `monday`: lista con las ventas del lunes, 16 de enero de 2023\n",
    "- `tuesday`: lista con las ventas del martes, 17 de enero de 2023\n",
    "- `wednesday`: lista con las ventas del miércoles, 18 de enero de 2023\n",
    "- `thursday`: lista con las ventas del jueves, 19 de enero de 2023\n",
    "- `friday`: lista con las ventas del viernes, 20 de enero de 2023\n",
    "- `saturday`: lista con las ventas del sábado, 21 de enero de 2023\n",
    "- `sunday`: lista con las ventas del domingo, 22 de enero de 2023"
   ]
  },
  {
   "cell_type": "code",
   "execution_count": null,
   "id": "f2b38aa6",
   "metadata": {},
   "outputs": [],
   "source": []
  },
  {
   "cell_type": "markdown",
   "id": "0727bc22",
   "metadata": {},
   "source": [
    "Calcula el valor total de las ventas para cada día de la semana. Almacena el valor de las ventas en las siguientes variables:\n",
    "- `total_monday`: variable con el valor total de las ventas del día lunes\n",
    "- `total_tuesday`: variable con el valor total de las ventas del día lunes\n",
    "- `total_wednesday`: variable con el valor total de las ventas del día lunes\n",
    "- `total_thursday`: variable con el valor total de las ventas del día lunes\n",
    "- `total_friday`: variable con el valor total de las ventas del día lunes\n",
    "- `total_saturday`: variable con el valor total de las ventas del día lunes\n",
    "- `total_sunday`: variable con el valor total de las ventas del día lunes\n",
    "\n",
    "**Tip**: utiliza ciclos y las listas de los días de la semana. También puedes usar el método `.index()` para obtener el índice de un elemento en una lista."
   ]
  },
  {
   "cell_type": "code",
   "execution_count": null,
   "id": "0d6e0781",
   "metadata": {},
   "outputs": [],
   "source": []
  },
  {
   "cell_type": "markdown",
   "id": "3cc13c70",
   "metadata": {},
   "source": [
    "¿Cuál es valor total de las ventas de Michelangelo's durante su primera semana?"
   ]
  },
  {
   "cell_type": "code",
   "execution_count": null,
   "id": "c8d1500f",
   "metadata": {},
   "outputs": [],
   "source": []
  }
 ],
 "metadata": {
  "kernelspec": {
   "display_name": "Python 3 (ipykernel)",
   "language": "python",
   "name": "python3"
  },
  "language_info": {
   "codemirror_mode": {
    "name": "ipython",
    "version": 3
   },
   "file_extension": ".py",
   "mimetype": "text/x-python",
   "name": "python",
   "nbconvert_exporter": "python",
   "pygments_lexer": "ipython3",
   "version": "3.10.6"
  }
 },
 "nbformat": 4,
 "nbformat_minor": 5
}
